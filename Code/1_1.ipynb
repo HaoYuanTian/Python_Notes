{
 "cells": [
  {
   "cell_type": "code",
   "execution_count": 10,
   "metadata": {},
   "outputs": [],
   "source": [
    "\n",
    "from casadi import *\n"
   ]
  },
  {
   "cell_type": "code",
   "execution_count": 12,
   "metadata": {},
   "outputs": [
    {
     "name": "stdout",
     "output_type": "stream",
     "text": [
      "\n",
      "[[x_0, 00, 00], \n",
      " [x_1, x_3, 00], \n",
      " [x_2, x_4, x_5]]\n"
     ]
    }
   ],
   "source": [
    "print(SX.sym('x',Sparsity.lower(3)))\n"
   ]
  }
 ],
 "metadata": {
  "kernelspec": {
   "display_name": "Mpc",
   "language": "python",
   "name": "python3"
  },
  "language_info": {
   "codemirror_mode": {
    "name": "ipython",
    "version": 3
   },
   "file_extension": ".py",
   "mimetype": "text/x-python",
   "name": "python",
   "nbconvert_exporter": "python",
   "pygments_lexer": "ipython3",
   "version": "3.11.8"
  }
 },
 "nbformat": 4,
 "nbformat_minor": 2
}
