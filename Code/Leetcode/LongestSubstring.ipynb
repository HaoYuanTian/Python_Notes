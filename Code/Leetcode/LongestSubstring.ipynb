{
 "cells": [
  {
   "cell_type": "code",
   "execution_count": 1,
   "metadata": {},
   "outputs": [],
   "source": [
    "import numpy"
   ]
  },
  {
   "cell_type": "code",
   "execution_count": 7,
   "metadata": {},
   "outputs": [],
   "source": [
    "class solution:\n",
    "    # define function\n",
    "    def lengthOfLongestSubstring(self, s: str) -> int:\n",
    "        ans = left = 0\n",
    "        window = set()  # 维护从下标 left 到下标 right 的字符\n",
    "        # 这里将一个空集合赋值给变量 “window”。集合是一种无序且不包含重复元素的数据结构。这里的 “set ()” 创建了一个空集合。\n",
    "        for right, c in enumerate(s):\n",
    "            # 如果窗口内已经包含 c，那么再加入一个 c 会导致窗口内有重复元素\n",
    "            # 所以要在加入 c 之前，先移出窗口内的 c\n",
    "            while c in window:  # 窗口内有 c\n",
    "                window.remove(s[left])\n",
    "                left += 1  # 缩小窗口\n",
    "            window.add(c)  # 加入 c\n",
    "            ans = max(ans, right - left + 1)  # 更新窗口长度最大值\n",
    "        print(\"The lenth of longest substring of %s is %d\" % (s, ans))\n",
    "        return ans"
   ]
  },
  {
   "cell_type": "code",
   "execution_count": 8,
   "metadata": {},
   "outputs": [
    {
     "name": "stdout",
     "output_type": "stream",
     "text": [
      "The lenth of longest substring of abcdafgvf is 7\n"
     ]
    }
   ],
   "source": [
    "Solution = solution()\n",
    "a = \"abcdafgvf\"\n",
    "result = Solution.lengthOfLongestSubstring(a)\n"
   ]
  }
 ],
 "metadata": {
  "kernelspec": {
   "display_name": "base",
   "language": "python",
   "name": "python3"
  },
  "language_info": {
   "codemirror_mode": {
    "name": "ipython",
    "version": 3
   },
   "file_extension": ".py",
   "mimetype": "text/x-python",
   "name": "python",
   "nbconvert_exporter": "python",
   "pygments_lexer": "ipython3",
   "version": "3.11.7"
  }
 },
 "nbformat": 4,
 "nbformat_minor": 2
}
