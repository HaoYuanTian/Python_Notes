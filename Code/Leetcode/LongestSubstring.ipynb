{
 "cells": [
  {
   "cell_type": "code",
   "execution_count": 1,
   "metadata": {},
   "outputs": [],
   "source": [
    "import numpy as np"
   ]
  },
  {
   "cell_type": "code",
   "execution_count": 2,
   "metadata": {},
   "outputs": [],
   "source": [
    "class solution:\n",
    "    def lengthOfLongestSubstring0(self, s: str) -> int:\n",
    "        ans = left = 0 \n",
    "        s = np.fromiter(s, dtype='U1')\n",
    "        list1 = list()\n",
    "        list2 = list()\n",
    "        for right, c in enumerate(s):\n",
    "            # while 循环会一直判断，若c在list1中则会从left开始逐个右移剔除\n",
    "            while c in list1:\n",
    "                list1.remove(s[left])\n",
    "                left = left + 1\n",
    "            list1.append(c)\n",
    "            # ans = max(ans, right-left+1)\n",
    "            if right-left+1 > ans:\n",
    "                ans = right-left+1\n",
    "                # 把一个列表赋值给另一个变量时，在 Python 中实际上是将新变量指向了原始列表所在的内存地址。这意味着它们本质上是同一个列表，只是有两个不同的名称来引用它。\n",
    "                # .copy()浅拷贝\n",
    "                list2=list1.copy()\n",
    "        return ans,list2,left,right\n",
    "    \n",
    "    def lengthOfLongestSubstring1(self, s: str) -> tuple:\n",
    "        ans = left = 0\n",
    "        s = np.fromiter(s, dtype='U1')\n",
    "        max_substring = []  # 用于最终记录最长子串\n",
    "        for right, c in enumerate(s):\n",
    "            # 检查当前字符是否在已有的子串窗口（这里使用切片模拟窗口）中\n",
    "            while c in s[left:right]:\n",
    "                left += 1\n",
    "            # 获取当前无重复字符的子串窗口\n",
    "            current_substring = s[left:right + 1].tolist()\n",
    "            if len(current_substring) > ans:\n",
    "                ans = len(current_substring)\n",
    "                max_substring = current_substring.copy()  # 使用copy避免后续修改影响\n",
    "            # 这里也可以添加一些调试打印语句，比如：\n",
    "            # print(f\"当前子串: {current_substring}, 最长子串: {max_substring}\")\n",
    "        return ans, max_substring, left, right"
   ]
  },
  {
   "cell_type": "code",
   "execution_count": 3,
   "metadata": {},
   "outputs": [],
   "source": [
    "Solution = solution()\n",
    "a = \"abcbacdca\"\n",
    "result = Solution.lengthOfLongestSubstring0(a)\n",
    "\n"
   ]
  }
 ],
 "metadata": {
  "kernelspec": {
   "display_name": "base",
   "language": "python",
   "name": "python3"
  },
  "language_info": {
   "codemirror_mode": {
    "name": "ipython",
    "version": 3
   },
   "file_extension": ".py",
   "mimetype": "text/x-python",
   "name": "python",
   "nbconvert_exporter": "python",
   "pygments_lexer": "ipython3",
   "version": "3.11.7"
  }
 },
 "nbformat": 4,
 "nbformat_minor": 2
}
