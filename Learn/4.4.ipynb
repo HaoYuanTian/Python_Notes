{
 "cells": [
  {
   "cell_type": "code",
   "execution_count": 2,
   "metadata": {},
   "outputs": [
    {
     "data": {
      "text/plain": [
       "[0, 1, 4, 9, 16, 25, 36, 49, 64, 81]"
      ]
     },
     "execution_count": 2,
     "metadata": {},
     "output_type": "execute_result"
    }
   ],
   "source": [
    "L  = [x * x for x in range(10)]\n",
    "L"
   ]
  },
  {
   "cell_type": "code",
   "execution_count": 4,
   "metadata": {},
   "outputs": [
    {
     "data": {
      "text/plain": [
       "0"
      ]
     },
     "execution_count": 4,
     "metadata": {},
     "output_type": "execute_result"
    }
   ],
   "source": [
    "m  = (x * x for x in range(10))###注意[]和()生成的Type不同\n",
    "next(m)"
   ]
  },
  {
   "cell_type": "markdown",
   "metadata": {},
   "source": [
    "调用生成器的方式是采用for循环"
   ]
  },
  {
   "cell_type": "code",
   "execution_count": 5,
   "metadata": {},
   "outputs": [
    {
     "name": "stdout",
     "output_type": "stream",
     "text": [
      "1\n",
      "4\n",
      "9\n",
      "16\n",
      "25\n",
      "36\n",
      "49\n",
      "64\n",
      "81\n"
     ]
    }
   ],
   "source": [
    "for a in m:\n",
    "    print(a)"
   ]
  },
  {
   "cell_type": "code",
   "execution_count": 28,
   "metadata": {},
   "outputs": [],
   "source": [
    "def fib(max):\n",
    "    # n = 0\n",
    "    # a = 1\n",
    "    # print(a)\n",
    "    # b = 1\n",
    "    # while n <= max:\n",
    "    #     print(b)\n",
    "    #     n = n + 1\n",
    "    n,a,b = 0,0,1#n用来计算迭代次数，a用来记录前一个值，b表示输出值\n",
    "    while n <= max:\n",
    "        yield(b)\n",
    "        n = n + 1\n",
    "        a , b = b , a+b\n",
    "    return 'done'##return 用于标记函数执行的结束。一旦 return 语句执行，函数就会结束，即使还没有到达代码块的末尾\n",
    "\n",
    "f = fib(6)\n",
    "\n"
   ]
  },
  {
   "cell_type": "code",
   "execution_count": 29,
   "metadata": {},
   "outputs": [
    {
     "name": "stdout",
     "output_type": "stream",
     "text": [
      "1\n",
      "1\n",
      "2\n",
      "3\n",
      "5\n",
      "8\n",
      "13\n"
     ]
    }
   ],
   "source": [
    "for i in f:\n",
    "    print(i)"
   ]
  },
  {
   "cell_type": "code",
   "execution_count": 31,
   "metadata": {},
   "outputs": [
    {
     "ename": "StopIteration",
     "evalue": "",
     "output_type": "error",
     "traceback": [
      "\u001b[1;31m---------------------------------------------------------------------------\u001b[0m",
      "\u001b[1;31mStopIteration\u001b[0m                             Traceback (most recent call last)",
      "Cell \u001b[1;32mIn[31], line 1\u001b[0m\n\u001b[1;32m----> 1\u001b[0m \u001b[38;5;28;43mnext\u001b[39;49m\u001b[43m(\u001b[49m\u001b[43mf\u001b[49m\u001b[43m)\u001b[49m\u001b[38;5;66;03m###f是generator格式，上面的读取已经读完了，再次调用next则显示StopIteration\u001b[39;00m\n",
      "\u001b[1;31mStopIteration\u001b[0m: "
     ]
    }
   ],
   "source": [
    "next(f)###f是generator格式，上面的读取已经读完了，再次调用next则显示StopIteration"
   ]
  },
  {
   "cell_type": "code",
   "execution_count": 33,
   "metadata": {},
   "outputs": [
    {
     "name": "stdout",
     "output_type": "stream",
     "text": [
      "[1]\n",
      "[1, 1]\n",
      "[1, 2, 1]\n",
      "[1, 3, 3, 1]\n",
      "[1, 4, 6, 4, 1]\n"
     ]
    }
   ],
   "source": [
    "def yanghui():\n",
    "    row = [1]\n",
    "    while True:\n",
    "    ##虽然 while True: 创建了一个无限循环，但生成器的特性意味着它会在每次调用 yield 时暂停执行。\n",
    "    ##这意味着尽管循环是无限的，但生成器每次只产生一行，并且仅当通过 next() 函数或其他方式请求下一个元素时才会继续\n",
    "        yield row\n",
    "        row = [x + y for x,y in zip([0] + row , row + [0])]\n",
    "\n",
    "n = 5\n",
    "gen = yanghui()\n",
    "for _ in range(n):\n",
    "    # for _ in range(n): 是一种常见的方式，用于表示“执行下面的代码块 n 次”，\n",
    "    # 而不关心循环中的具体索引值。例如，如果 n 是 5，那么循环体将被执行 5 次。\n",
    "    print(next(gen))"
   ]
  },
  {
   "cell_type": "code",
   "execution_count": 4,
   "metadata": {},
   "outputs": [
    {
     "name": "stdout",
     "output_type": "stream",
     "text": [
      "Tesla Model3 is starting.\n"
     ]
    }
   ],
   "source": [
    "class Car:\n",
    "    def __init__(self, brand, model, year):\n",
    "        #__init__ 方法设置了 my_car 的品牌、型号和年份。\n",
    "        self.brand = brand\n",
    "        self.model = model\n",
    "        self.year = year\n",
    "    \n",
    "    def start(self):\n",
    "        #self 在 start 方法中使用，表示 my_car 实例本身。\n",
    "        print(f\"{self.brand} {self.model} is starting.\")\n",
    "\n",
    "#创建car类的实例\n",
    "my_car = Car('Tesla','Model3',2012)\n",
    "#my_car 是 Car 类的一个实例，代表一辆特定的车。\n",
    "my_car.start()\n"
   ]
  },
  {
   "cell_type": "code",
   "execution_count": 14,
   "metadata": {},
   "outputs": [
    {
     "ename": "UnboundLocalError",
     "evalue": "cannot access local variable 'current' where it is not associated with a value",
     "output_type": "error",
     "traceback": [
      "\u001b[1;31m---------------------------------------------------------------------------\u001b[0m",
      "\u001b[1;31mUnboundLocalError\u001b[0m                         Traceback (most recent call last)",
      "Cell \u001b[1;32mIn[14], line 50\u001b[0m\n\u001b[0;32m     48\u001b[0m \u001b[38;5;66;03m# 调用函数并打印结果\u001b[39;00m\n\u001b[0;32m     49\u001b[0m solution \u001b[38;5;241m=\u001b[39m Solution()\n\u001b[1;32m---> 50\u001b[0m result \u001b[38;5;241m=\u001b[39m \u001b[43msolution\u001b[49m\u001b[38;5;241;43m.\u001b[39;49m\u001b[43maddTwoNumbers\u001b[49m\u001b[43m(\u001b[49m\u001b[43ml1\u001b[49m\u001b[43m,\u001b[49m\u001b[43m \u001b[49m\u001b[43ml2\u001b[49m\u001b[43m)\u001b[49m\n\u001b[0;32m     51\u001b[0m print_list(result)  \u001b[38;5;66;03m# 预期输出：7 0 8\u001b[39;00m\n",
      "Cell \u001b[1;32mIn[14], line 23\u001b[0m, in \u001b[0;36mSolution.addTwoNumbers\u001b[1;34m(self, l1, l2)\u001b[0m\n\u001b[0;32m     21\u001b[0m     \u001b[38;5;28msum\u001b[39m \u001b[38;5;241m+\u001b[39m\u001b[38;5;241m=\u001b[39m carry\n\u001b[0;32m     22\u001b[0m     carry \u001b[38;5;241m=\u001b[39m \u001b[38;5;28msum\u001b[39m\u001b[38;5;241m/\u001b[39m\u001b[38;5;241m/\u001b[39m\u001b[38;5;241m10\u001b[39m\n\u001b[1;32m---> 23\u001b[0m     \u001b[43mcurrent\u001b[49m\u001b[38;5;241m.\u001b[39mnext \u001b[38;5;241m=\u001b[39m ListNode(\u001b[38;5;28msum\u001b[39m\u001b[38;5;241m%\u001b[39m\u001b[38;5;241m10\u001b[39m)\n\u001b[0;32m     24\u001b[0m     current \u001b[38;5;241m=\u001b[39m current\u001b[38;5;241m.\u001b[39mnext\n\u001b[0;32m     26\u001b[0m \u001b[38;5;28;01mreturn\u001b[39;00m dummy_head\u001b[38;5;241m.\u001b[39mnext\n",
      "\u001b[1;31mUnboundLocalError\u001b[0m: cannot access local variable 'current' where it is not associated with a value"
     ]
    }
   ],
   "source": [
    "class ListNode:\n",
    "    def __init__(self, val=0, next=None):\n",
    "        self.val = val\n",
    "        self.next = next\n",
    "\n",
    "class Solution:\n",
    "    def addTwoNumbers(self, l1:ListNode, l2:ListNode) ->ListNode:\n",
    "        dummy_head = ListNode(0)\n",
    "        curent = dummy_head\n",
    "        carry = 0\n",
    "\n",
    "        while l1 or l2 or carry:\n",
    "            sum = 0\n",
    "            if l1:\n",
    "                sum += l1.val\n",
    "                l1 = l1.next\n",
    "            if l2:\n",
    "                sum += l2.val\n",
    "                l2 = l2.next\n",
    "            \n",
    "            sum += carry\n",
    "            carry = sum//10\n",
    "            current.next = ListNode(sum%10)\n",
    "            current = current.next\n",
    "        \n",
    "        return dummy_head.next\n",
    "\n",
    "# 辅助函数，用于创建链表\n",
    "def create_list(elements):\n",
    "    head = ListNode(0)\n",
    "    current = head\n",
    "    for element in elements:\n",
    "        current.next = ListNode(element)\n",
    "        current = current.next\n",
    "    return head.next\n",
    "\n",
    "# 辅助函数，用于打印链表\n",
    "def print_list(l):\n",
    "    while l:\n",
    "        print(l.val, end=\" \")\n",
    "        l = l.next\n",
    "    print()\n",
    "\n",
    "# 创建链表\n",
    "l1 = create_list([2, 4, 3])  # 代表数字 342\n",
    "l2 = create_list([5, 6, 4])  # 代表数字 465\n",
    "\n",
    "# 调用函数并打印结果\n",
    "solution = Solution()\n",
    "result = solution.addTwoNumbers(l1, l2)\n",
    "print_list(result)  # 预期输出：7 0 8"
   ]
  },
  {
   "cell_type": "code",
   "execution_count": 17,
   "metadata": {},
   "outputs": [
    {
     "name": "stdout",
     "output_type": "stream",
     "text": [
      "7 0 8 \n"
     ]
    }
   ],
   "source": [
    "# 链表节点的定义\n",
    "class ListNode:\n",
    "    def __init__(self, val=0, next=None):\n",
    "        self.val = val\n",
    "        self.next = next\n",
    "\n",
    "# Solution 类，包含 addTwoNumbers 方法\n",
    "class Solution:\n",
    "    def addTwoNumbers(self, l1: ListNode, l2: ListNode) -> ListNode:\n",
    "        dummy_head = ListNode(0)\n",
    "        current = dummy_head\n",
    "        carry = 0\n",
    "\n",
    "        while l1 or l2 or carry:\n",
    "            sum = 0\n",
    "            if l1:\n",
    "                sum += l1.val\n",
    "                l1 = l1.next\n",
    "            if l2:\n",
    "                sum += l2.val\n",
    "                l2 = l2.next\n",
    "\n",
    "            sum += carry\n",
    "            carry = sum // 10\n",
    "            current.next = ListNode(sum % 10)\n",
    "            current = current.next\n",
    "\n",
    "        return dummy_head.next\n",
    "\n",
    "# 辅助函数，用于创建链表\n",
    "def create_list(elements):\n",
    "    head = ListNode(0)###构建一个哑节点\n",
    "    current = head\n",
    "    for element in elements:\n",
    "        current.next = ListNode(element)\n",
    "        current = current.next\n",
    "    return head.next ##在基本数据类型的情况下，变量像是存储了值本身，而不是值的引用。所以，改变其中一个变量的值不会影响另一个变量。这与对象和列表等复杂数据类型不同，后者是通过引用进行交互的。\n",
    "                     ##在处理对象时（例如您之前的 ListNode 实例），变量实际上是存储对对象的引用，所以对一个变量的修改会影响所有指向同一对象的变量。\n",
    "\n",
    "# 辅助函数，用于打印链表\n",
    "def print_list(l):\n",
    "    while l:\n",
    "        print(l.val, end=\" \") #这行代码的作用是打印当前节点的值，并在其后添加一个空格，而不是立即换行。\n",
    "        l = l.next\n",
    "    print()\n",
    "\n",
    "# 创建链表\n",
    "l1 = create_list([2, 4, 3])  # 代表数字 342\n",
    "l2 = create_list([5, 6, 4])  # 代表数字 465\n",
    "\n",
    "# 调用函数并打印结果\n",
    "solution = Solution()\n",
    "result = solution.addTwoNumbers(l1, l2)\n",
    "print_list(result)  # 预期输出：7 0 8\n"
   ]
  },
  {
   "cell_type": "code",
   "execution_count": 19,
   "metadata": {},
   "outputs": [
    {
     "data": {
      "text/plain": [
       "5"
      ]
     },
     "execution_count": 19,
     "metadata": {},
     "output_type": "execute_result"
    }
   ],
   "source": [
    "l2.val"
   ]
  },
  {
   "cell_type": "code",
   "execution_count": 20,
   "metadata": {},
   "outputs": [
    {
     "data": {
      "text/plain": [
       "5"
      ]
     },
     "execution_count": 20,
     "metadata": {},
     "output_type": "execute_result"
    }
   ],
   "source": [
    "l2.val"
   ]
  },
  {
   "cell_type": "code",
   "execution_count": 21,
   "metadata": {},
   "outputs": [
    {
     "data": {
      "text/plain": [
       "6"
      ]
     },
     "execution_count": 21,
     "metadata": {},
     "output_type": "execute_result"
    }
   ],
   "source": [
    "l2 = l2.next\n",
    "l2.val"
   ]
  }
 ],
 "metadata": {
  "kernelspec": {
   "display_name": "Mpc",
   "language": "python",
   "name": "python3"
  },
  "language_info": {
   "codemirror_mode": {
    "name": "ipython",
    "version": 3
   },
   "file_extension": ".py",
   "mimetype": "text/x-python",
   "name": "python",
   "nbconvert_exporter": "python",
   "pygments_lexer": "ipython3",
   "version": "3.11.8"
  }
 },
 "nbformat": 4,
 "nbformat_minor": 2
}
