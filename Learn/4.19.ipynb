{
 "cells": [
  {
   "cell_type": "code",
   "execution_count": 1,
   "metadata": {},
   "outputs": [
    {
     "name": "stdout",
     "output_type": "stream",
     "text": [
      "Michael: 98\n",
      "Bob: 81\n"
     ]
    }
   ],
   "source": [
    "# Object Oriented Programming\n",
    "# 面向过程的程序设计把计算机程序视为一系列的命令集合，即一组函数的顺序执行。为了简化程序设计，\n",
    "# 面向过程把函数继续切分为子函数，即把大块函数通过切割成小块函数来降低系统的复杂度。\n",
    "# 而面向对象的程序设计把计算机程序视为一组对象的集合，而每个对象都可以接收其他对象发过来的消息，并处理这些消息，\n",
    "# 计算机程序的执行就是一系列消息在各个对象之间传递。\n",
    "std1 = { 'name': 'Michael', 'score': 98 }\n",
    "std2 = { 'name': 'Bob', 'score': 81 }\n",
    "\n",
    "def print_score(std):\n",
    "    print('%s: %s' % (std['name'], std['score']))\n",
    "\n",
    "print_score(std1)\n",
    "print_score(std2)\n"
   ]
  },
  {
   "cell_type": "code",
   "execution_count": 31,
   "metadata": {},
   "outputs": [],
   "source": [
    "# 面向对象的设计思想是从自然界中来的，因为在自然界中，类（Class）和实例（Instance）的概念是很自然的。\n",
    "# Class是一种抽象概念，比如我们定义的Class——Student，\n",
    "# 是指学生这个概念，而实例（Instance）则是一个个具体的Student\n",
    "class Student(object):\n",
    "    # 定义类\n",
    "    def __init__(self, name, score) -> None:\n",
    "        # 如果要让内部属性不被外部访问，可以把属性的名称前加上两个下划线__，在Python中，实例的变量名如果以__开头，\n",
    "        # 就变成了一个私有变量（private），只有内部可以访问，外部不能访问\n",
    "        self.__name = name\n",
    "        self.__score = score\n",
    "\n",
    "    def print_score(self):\n",
    "        print('%s: %s' % (self.__name, self.__score))\n",
    "\n",
    "    def set_socre(self, score):\n",
    "        if 0<= score <= 99 :\n",
    "            self.__score = score\n",
    "        else:\n",
    "            print('分数不合理，请重新检查')\n",
    "    \n",
    "        "
   ]
  },
  {
   "cell_type": "code",
   "execution_count": 34,
   "metadata": {},
   "outputs": [
    {
     "name": "stdout",
     "output_type": "stream",
     "text": [
      "Li Ming: 90\n",
      "Amy: 89\n",
      "Li Ming: 91\n",
      "分数不合理，请重新检查\n"
     ]
    }
   ],
   "source": [
    "# 创建实例\n",
    "liming = Student('Li Ming', 90)\n",
    "amy = Student('Amy', 89)\n",
    "liming.print_score()\n",
    "amy.print_score()\n",
    "liming.set_socre(91)\n",
    "liming.print_score()\n",
    "liming.set_socre(100)\n",
    "\n",
    "\n"
   ]
  },
  {
   "cell_type": "code",
   "execution_count": 37,
   "metadata": {},
   "outputs": [
    {
     "name": "stdout",
     "output_type": "stream",
     "text": [
      "HaoYuan Tian: 96\n"
     ]
    },
    {
     "ename": "AttributeError",
     "evalue": "'Big_student' object has no attribute '_Big_student__name'",
     "output_type": "error",
     "traceback": [
      "\u001b[1;31m---------------------------------------------------------------------------\u001b[0m",
      "\u001b[1;31mAttributeError\u001b[0m                            Traceback (most recent call last)",
      "Cell \u001b[1;32mIn[37], line 7\u001b[0m\n\u001b[0;32m      5\u001b[0m HaoYuanTian \u001b[38;5;241m=\u001b[39m Big_student(\u001b[38;5;124m'\u001b[39m\u001b[38;5;124mHaoYuan Tian\u001b[39m\u001b[38;5;124m'\u001b[39m,\u001b[38;5;124m'\u001b[39m\u001b[38;5;124m96\u001b[39m\u001b[38;5;124m'\u001b[39m)\n\u001b[0;32m      6\u001b[0m HaoYuanTian\u001b[38;5;241m.\u001b[39mprint_score()\n\u001b[1;32m----> 7\u001b[0m \u001b[43mHaoYuanTian\u001b[49m\u001b[38;5;241;43m.\u001b[39;49m\u001b[43mrun\u001b[49m\u001b[43m(\u001b[49m\u001b[43m)\u001b[49m\n",
      "Cell \u001b[1;32mIn[37], line 3\u001b[0m, in \u001b[0;36mBig_student.run\u001b[1;34m(slef)\u001b[0m\n\u001b[0;32m      2\u001b[0m \u001b[38;5;28;01mdef\u001b[39;00m \u001b[38;5;21mrun\u001b[39m(slef):\n\u001b[1;32m----> 3\u001b[0m     \u001b[38;5;28mprint\u001b[39m(\u001b[38;5;124m'\u001b[39m\u001b[38;5;132;01m%s\u001b[39;00m\u001b[38;5;124m'\u001b[39m \u001b[38;5;241m%\u001b[39m (\u001b[43mslef\u001b[49m\u001b[38;5;241;43m.\u001b[39;49m\u001b[43m__name\u001b[49m) ,\u001b[38;5;124m'\u001b[39m\u001b[38;5;124mis loading\u001b[39m\u001b[38;5;124m'\u001b[39m)\n",
      "\u001b[1;31mAttributeError\u001b[0m: 'Big_student' object has no attribute '_Big_student__name'"
     ]
    }
   ],
   "source": [
    "class Big_student(Student):\n",
    "    def run(slef):\n",
    "        # print('%s' % (slef.__name) ,'is loading')\n",
    "        pass\n",
    "\n",
    "HaoYuanTian = Big_student('HaoYuan Tian','96')\n",
    "HaoYuanTian.print_score()\n",
    "HaoYuanTian.run()"
   ]
  }
 ],
 "metadata": {
  "kernelspec": {
   "display_name": "Mpc",
   "language": "python",
   "name": "python3"
  },
  "language_info": {
   "codemirror_mode": {
    "name": "ipython",
    "version": 3
   },
   "file_extension": ".py",
   "mimetype": "text/x-python",
   "name": "python",
   "nbconvert_exporter": "python",
   "pygments_lexer": "ipython3",
   "version": "3.11.8"
  }
 },
 "nbformat": 4,
 "nbformat_minor": 2
}
