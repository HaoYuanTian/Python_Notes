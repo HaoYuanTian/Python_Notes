{
 "cells": [
  {
   "cell_type": "code",
   "execution_count": 25,
   "metadata": {},
   "outputs": [
    {
     "data": {
      "text/plain": [
       "(0, 1)"
      ]
     },
     "execution_count": 25,
     "metadata": {},
     "output_type": "execute_result"
    }
   ],
   "source": [
    "class Solution:\n",
    "    def twoSum(self, nums: list[int], target: int) -> list[int]:\n",
    "        for i in range(0,len(nums)):\n",
    "            for j in range(i+1,len(nums)):\n",
    "                if nums[i]+nums[j] == target:\n",
    "                    return(i,j) \n",
    "                else:\n",
    "                    a = 'No Result'               \n",
    "        return(a)\n",
    "\n",
    "\n",
    "nums = [3,2,4]\n",
    "target = 5\n",
    "\n",
    "solution = Solution()\n",
    "# solution\n",
    "\n",
    "\n",
    "solution.twoSum(nums,target)\n",
    "\n",
    "    \n"
   ]
  },
  {
   "cell_type": "code",
   "execution_count": 30,
   "metadata": {},
   "outputs": [
    {
     "data": {
      "text/plain": [
       "(0, 1)"
      ]
     },
     "execution_count": 30,
     "metadata": {},
     "output_type": "execute_result"
    }
   ],
   "source": [
    "class Solution_1(object):\n",
    "    def twosum(self, nums: list[int], target: int) -> list[int]:\n",
    "        num_maps = {} ##建立一个dict用来存放之后遍历nums中的元素以及下标\n",
    "        for i, num in enumerate(nums):\n",
    "            # ##\n",
    "            # >>> seasons = ['Spring', 'Summer', 'Fall', 'Winter']\n",
    "            # >>> list(enumerate(seasons))\n",
    "            # [(0, 'Spring'), (1, 'Summer'), (2, 'Fall'), (3, 'Winter')]\n",
    "            # 第一位为序号，后一位为数值\n",
    "            # ##\n",
    "            complement = target - num\n",
    "            if complement in num_maps:\n",
    "                return(num_maps[complement],i)\n",
    "            num_maps[num] = i\n",
    "            #dict中搜索值来定序号\n",
    "        return()\n",
    "    \n",
    "a = Solution_1()\n",
    "a.twosum(nums,target)\n",
    "\n",
    "\n"
   ]
  }
 ],
 "metadata": {
  "kernelspec": {
   "display_name": "Mpc",
   "language": "python",
   "name": "python3"
  },
  "language_info": {
   "codemirror_mode": {
    "name": "ipython",
    "version": 3
   },
   "file_extension": ".py",
   "mimetype": "text/x-python",
   "name": "python",
   "nbconvert_exporter": "python",
   "pygments_lexer": "ipython3",
   "version": "3.11.8"
  }
 },
 "nbformat": 4,
 "nbformat_minor": 2
}
