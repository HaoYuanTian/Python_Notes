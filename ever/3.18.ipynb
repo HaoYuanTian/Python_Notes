{
 "cells": [
  {
   "cell_type": "code",
   "execution_count": 2,
   "metadata": {},
   "outputs": [],
   "source": [
    "import numpy"
   ]
  },
  {
   "cell_type": "code",
   "execution_count": 3,
   "metadata": {},
   "outputs": [
    {
     "name": "stdout",
     "output_type": "stream",
     "text": [
      "包含中文的str\n"
     ]
    }
   ],
   "source": [
    "print('包含中文的str')"
   ]
  },
  {
   "cell_type": "code",
   "execution_count": 6,
   "metadata": {},
   "outputs": [
    {
     "data": {
      "text/plain": [
       "'A'"
      ]
     },
     "execution_count": 6,
     "metadata": {},
     "output_type": "execute_result"
    }
   ],
   "source": [
    "ord('A')#获取字符的整数表示\n",
    "chr(65)#把编码转换为对应的字符"
   ]
  },
  {
   "cell_type": "code",
   "execution_count": 8,
   "metadata": {},
   "outputs": [
    {
     "data": {
      "text/plain": [
       "b'ABC'"
      ]
     },
     "execution_count": 8,
     "metadata": {},
     "output_type": "execute_result"
    }
   ],
   "source": [
    "'ABC'.encode('ascii')##'ABC'是字符串的形式为str而b'ABC'是以字节为单位的bytes，适合在网络上传输或者保存到磁盘上"
   ]
  },
  {
   "cell_type": "code",
   "execution_count": 17,
   "metadata": {},
   "outputs": [
    {
     "name": "stdout",
     "output_type": "stream",
     "text": [
      "ABC的len: 3\n",
      "中文的len: 2\n"
     ]
    },
    {
     "data": {
      "text/plain": [
       "6"
      ]
     },
     "execution_count": 17,
     "metadata": {},
     "output_type": "execute_result"
    }
   ],
   "source": [
    "a = len('ABC')\n",
    "b = len('中文')\n",
    "print(\"ABC的len:\",a)\n",
    "print(\"中文的len:\",b)\n",
    "len('中文'.encode('utf-8'))##在操作字符串时，str与bytes的互相转换，为了避免乱码转换使用utf-8"
   ]
  },
  {
   "cell_type": "code",
   "execution_count": 8,
   "metadata": {},
   "outputs": [
    {
     "name": "stdout",
     "output_type": "stream",
     "text": [
      "Hi, Mike, you have $1000%.\n"
     ]
    }
   ],
   "source": [
    "'Hello,%s' % 'world'\n",
    "print('Hi, %s, you have $%d%%.' % ('Mike', 1000))"
   ]
  },
  {
   "cell_type": "code",
   "execution_count": 10,
   "metadata": {},
   "outputs": [
    {
     "name": "stdout",
     "output_type": "stream",
     "text": [
      "Hello, Lisa do you know Mike\n"
     ]
    }
   ],
   "source": [
    "name = ['Lisa','Mike']\n",
    "print('Hello, {0} do you know {1}'.format('Lisa','Mike'))"
   ]
  },
  {
   "cell_type": "code",
   "execution_count": 18,
   "metadata": {},
   "outputs": [
    {
     "name": "stdout",
     "output_type": "stream",
     "text": [
      "小明的成绩提高了18.06%相较与去年\n"
     ]
    }
   ],
   "source": [
    "s1 = 72\n",
    "s2 = 85\n",
    "t = ((85-72)/72) * 100\n",
    "print('小明的成绩提高了%.2f%%相较与去年' % t)"
   ]
  },
  {
   "cell_type": "code",
   "execution_count": 22,
   "metadata": {},
   "outputs": [
    {
     "data": {
      "text/plain": [
       "'Tim'"
      ]
     },
     "execution_count": 22,
     "metadata": {},
     "output_type": "execute_result"
    }
   ],
   "source": [
    "classmates = ['Mike','Tom','Tim']\n",
    "# classmates\n",
    "# len(classmates)\n",
    "classmates[-1]#-1索引直接访问最后一个元素"
   ]
  },
  {
   "cell_type": "code",
   "execution_count": 29,
   "metadata": {},
   "outputs": [
    {
     "data": {
      "text/plain": [
       "['Mike',\n",
       " 'LiHua',\n",
       " 'LiHua',\n",
       " 'Tom',\n",
       " 'Tim',\n",
       " 'Amy',\n",
       " 'LiHua',\n",
       " 'LiHua',\n",
       " 'LiHua',\n",
       " 'Amy']"
      ]
     },
     "execution_count": 29,
     "metadata": {},
     "output_type": "execute_result"
    }
   ],
   "source": [
    "classmates.append('Amy')##在list中追加元素到末尾\n",
    "classmates"
   ]
  },
  {
   "cell_type": "code",
   "execution_count": 28,
   "metadata": {},
   "outputs": [
    {
     "data": {
      "text/plain": [
       "['Mike', 'LiHua', 'LiHua', 'Tom', 'Tim', 'Amy', 'LiHua', 'LiHua', 'LiHua']"
      ]
     },
     "execution_count": 28,
     "metadata": {},
     "output_type": "execute_result"
    }
   ],
   "source": [
    "classmates.insert(1,'LiHua')##在列表的第i位添加元素\n",
    "classmates"
   ]
  },
  {
   "cell_type": "code",
   "execution_count": 30,
   "metadata": {},
   "outputs": [
    {
     "data": {
      "text/plain": [
       "'Amy'"
      ]
     },
     "execution_count": 30,
     "metadata": {},
     "output_type": "execute_result"
    }
   ],
   "source": [
    "classmates.pop()##删除末尾元素"
   ]
  },
  {
   "cell_type": "code",
   "execution_count": 34,
   "metadata": {},
   "outputs": [
    {
     "data": {
      "text/plain": [
       "'LiHua'"
      ]
     },
     "execution_count": 34,
     "metadata": {},
     "output_type": "execute_result"
    }
   ],
   "source": [
    "classmates.pop(1)"
   ]
  },
  {
   "cell_type": "code",
   "execution_count": 35,
   "metadata": {},
   "outputs": [
    {
     "name": "stdout",
     "output_type": "stream",
     "text": [
      "<class 'tuple'>\n"
     ]
    }
   ],
   "source": [
    "cre_tuple = tuple('a''b''c')##list和tuple是python内置的有序集合，一个可变一个不可变\n",
    "print(type(cre_tuple))"
   ]
  },
  {
   "cell_type": "code",
   "execution_count": 36,
   "metadata": {},
   "outputs": [
    {
     "data": {
      "text/plain": [
       "'c'"
      ]
     },
     "execution_count": 36,
     "metadata": {},
     "output_type": "execute_result"
    }
   ],
   "source": [
    "cre_tuple[-1]"
   ]
  },
  {
   "cell_type": "code",
   "execution_count": 39,
   "metadata": {},
   "outputs": [
    {
     "name": "stdout",
     "output_type": "stream",
     "text": [
      "<class 'tuple'> <class 'int'>\n"
     ]
    }
   ],
   "source": [
    "t = (1,)\n",
    "s = (1)\n",
    "print(type(t),type(s))"
   ]
  },
  {
   "cell_type": "code",
   "execution_count": 46,
   "metadata": {},
   "outputs": [
    {
     "name": "stdout",
     "output_type": "stream",
     "text": [
      "BMI=24.74\n",
      "正常\n"
     ]
    }
   ],
   "source": [
    "h = input('height:')\n",
    "w = input('weighr:')\n",
    "h = float(h)\n",
    "w = float(w)\n",
    "BMI = (w/(h**2))\n",
    "print('BMI=%.2F'%BMI)\n",
    "if BMI < 18.5:\n",
    "    print('过轻')\n",
    "elif BMI < 25:\n",
    "    print('正常')\n",
    "elif BMI < 28:\n",
    "    print('过重')\n",
    "elif BMI < 32:\n",
    "    print('肥胖')\n",
    "else:\n",
    "    print('严重肥胖') \n",
    "\n",
    "   "
   ]
  },
  {
   "cell_type": "code",
   "execution_count": 50,
   "metadata": {},
   "outputs": [
    {
     "name": "stdout",
     "output_type": "stream",
     "text": [
      "< 10 years old: 8\n"
     ]
    }
   ],
   "source": [
    "age = input('age:')\n",
    "age = int(age)\n",
    "\n",
    "match age:\n",
    "    case x if x < 10:##表示当age<10成立时匹配且赋值给变量x\n",
    "        print(f'< 10 years old: {x}')\n",
    "    case 10:\n",
    "        print('10 years old.')\n",
    "    case 11 | 12 | 13 | 14 | 15 | 16 | 17 | 18:\n",
    "        print('11~18 years old.')\n",
    "    case 19:\n",
    "        print('19 years old.')\n",
    "    case _:\n",
    "        print('not sure.')"
   ]
  }
 ],
 "metadata": {
  "kernelspec": {
   "display_name": "Mpc",
   "language": "python",
   "name": "python3"
  },
  "language_info": {
   "codemirror_mode": {
    "name": "ipython",
    "version": 3
   },
   "file_extension": ".py",
   "mimetype": "text/x-python",
   "name": "python",
   "nbconvert_exporter": "python",
   "pygments_lexer": "ipython3",
   "version": "3.11.8"
  }
 },
 "nbformat": 4,
 "nbformat_minor": 2
}
