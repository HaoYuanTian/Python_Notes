{
 "cells": [
  {
   "cell_type": "code",
   "execution_count": 1,
   "metadata": {},
   "outputs": [],
   "source": [
    "from casadi import *"
   ]
  },
  {
   "cell_type": "code",
   "execution_count": 3,
   "metadata": {},
   "outputs": [
    {
     "name": "stdout",
     "output_type": "stream",
     "text": [
      "@1=sin(x_0), @2=sin(x_1), [((A_0*@1)+(A_2*@2)), ((A_1*@1)+(A_3*@2))]\n"
     ]
    }
   ],
   "source": [
    "x = SX.sym('x',2)\n",
    "A = SX.sym('A',2,2)\n",
    "e = mtimes(A,sin(x))\n",
    "print(e)"
   ]
  },
  {
   "cell_type": "code",
   "execution_count": 5,
   "metadata": {},
   "outputs": [
    {
     "name": "stdout",
     "output_type": "stream",
     "text": [
      "@1=1, \n",
      "[[@1, 00], \n",
      " [00, @1]]\n",
      "\n",
      "[[x, 00], \n",
      " [0, 1]]\n"
     ]
    }
   ],
   "source": [
    "C = SX.eye(2)\n",
    "print(C)\n",
    "C[0,0] = SX.sym('x')\n",
    "C[1,0] = 0##数值上为0\n",
    "print(C)\n"
   ]
  },
  {
   "cell_type": "markdown",
   "metadata": {},
   "source": [
    "\"00\" 可能被用于保持稀疏矩阵的结构，同时允许在数值计算中忽略这些零元素。这对于稀疏矩阵的存储和计算非常有用，因为它可以充分利用矩阵的稀疏性以提高效率。而单独的 \"0\" 则表示不存在的元素，通常不会在稀疏矩阵的表示中出现"
   ]
  },
  {
   "cell_type": "code",
   "execution_count": 7,
   "metadata": {},
   "outputs": [
    {
     "name": "stdout",
     "output_type": "stream",
     "text": [
      "mac(A,sin(x),zeros(2x1))\n"
     ]
    }
   ],
   "source": [
    "x=MX.sym('x',2)\n",
    "A = MX.sym('A''', 2, 2)\n",
    "e = mtimes(A, sin(x))\n",
    "print(e)"
   ]
  },
  {
   "cell_type": "code",
   "execution_count": 9,
   "metadata": {},
   "outputs": [],
   "source": [
    "F = Function('F',[x,A],[e])"
   ]
  }
 ],
 "metadata": {
  "kernelspec": {
   "display_name": "Mpc",
   "language": "python",
   "name": "python3"
  },
  "language_info": {
   "codemirror_mode": {
    "name": "ipython",
    "version": 3
   },
   "file_extension": ".py",
   "mimetype": "text/x-python",
   "name": "python",
   "nbconvert_exporter": "python",
   "pygments_lexer": "ipython3",
   "version": "3.11.8"
  }
 },
 "nbformat": 4,
 "nbformat_minor": 2
}
